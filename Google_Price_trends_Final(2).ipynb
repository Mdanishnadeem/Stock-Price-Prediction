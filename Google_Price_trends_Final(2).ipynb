{
  "cells": [
    {
      "cell_type": "markdown",
      "metadata": {
        "id": "N4G_I2WUnl5-"
      },
      "source": [
        "**Importing Relevant Libraries and Setting up Notebook**"
      ],
      "id": "N4G_I2WUnl5-"
    },
    {
      "cell_type": "code",
      "execution_count": 1,
      "metadata": {
        "id": "6b86f534"
      },
      "outputs": [],
      "source": [
        "import pandas as pd \n",
        "import numpy as np \n",
        "import tensorflow as tf\n",
        "import matplotlib.pyplot as plt\n",
        "import seaborn as sns \n",
        "from sklearn.preprocessing import MinMaxScaler\n",
        "import matplotlib.dates as mdates\n",
        "import os \n",
        "import random as rn"
      ],
      "id": "6b86f534"
    },
    {
      "cell_type": "code",
      "execution_count": 2,
      "metadata": {
        "id": "sXnDmXR7RDr2"
      },
      "outputs": [],
      "source": [
        "#device_name = tf.test.gpu_device_name()\n",
        "#if device_name != '/device:GPU:0':\n",
        "  #raise SystemError('GPU device not found')\n",
        "#print('Found GPU at: {}'.format(device_name))"
      ],
      "id": "sXnDmXR7RDr2"
    },
    {
      "cell_type": "code",
      "source": [
        "os.environ['PYTHONHASHSEED'] = '0'\n",
        "os.environ['CUDA_VISIBLE_DEVICES'] = ''\n",
        "np.random.seed(37)\n",
        "rn.seed(1254)\n",
        "tf.random.set_seed(89)"
      ],
      "metadata": {
        "id": "Ag7IOtvjLKZS"
      },
      "id": "Ag7IOtvjLKZS",
      "execution_count": 3,
      "outputs": []
    },
    {
      "cell_type": "code",
      "execution_count": 4,
      "metadata": {
        "id": "81de4fb8"
      },
      "outputs": [],
      "source": [
        "df = pd.read_csv('GOOG.csv', parse_dates = ['Date'] )"
      ],
      "id": "81de4fb8"
    },
    {
      "cell_type": "code",
      "execution_count": 5,
      "metadata": {
        "id": "3131af3c",
        "colab": {
          "base_uri": "https://localhost:8080/",
          "height": 206
        },
        "outputId": "a54a7b42-45b4-4b49-a314-aa8ac57bd954"
      },
      "outputs": [
        {
          "output_type": "execute_result",
          "data": {
            "text/plain": [
              "        Date       Open       High        Low      Close  Adj Close    Volume\n",
              "0 2018-02-01  58.130501  58.700001  57.875999  58.384998  58.384998  48242000\n",
              "1 2018-02-02  56.099998  56.153500  55.363899  55.595001  55.595001  97158000\n",
              "2 2018-02-05  54.529999  55.500000  52.601501  52.790001  52.790001  75966000\n",
              "3 2018-02-06  51.359001  54.085499  51.156849  54.029999  54.029999  68960000\n",
              "4 2018-02-07  54.077000  54.089001  52.412998  52.429001  52.429001  47384000"
            ],
            "text/html": [
              "\n",
              "  <div id=\"df-1f02cf6f-bb8f-420c-8ca8-1b132edac2a9\">\n",
              "    <div class=\"colab-df-container\">\n",
              "      <div>\n",
              "<style scoped>\n",
              "    .dataframe tbody tr th:only-of-type {\n",
              "        vertical-align: middle;\n",
              "    }\n",
              "\n",
              "    .dataframe tbody tr th {\n",
              "        vertical-align: top;\n",
              "    }\n",
              "\n",
              "    .dataframe thead th {\n",
              "        text-align: right;\n",
              "    }\n",
              "</style>\n",
              "<table border=\"1\" class=\"dataframe\">\n",
              "  <thead>\n",
              "    <tr style=\"text-align: right;\">\n",
              "      <th></th>\n",
              "      <th>Date</th>\n",
              "      <th>Open</th>\n",
              "      <th>High</th>\n",
              "      <th>Low</th>\n",
              "      <th>Close</th>\n",
              "      <th>Adj Close</th>\n",
              "      <th>Volume</th>\n",
              "    </tr>\n",
              "  </thead>\n",
              "  <tbody>\n",
              "    <tr>\n",
              "      <th>0</th>\n",
              "      <td>2018-02-01</td>\n",
              "      <td>58.130501</td>\n",
              "      <td>58.700001</td>\n",
              "      <td>57.875999</td>\n",
              "      <td>58.384998</td>\n",
              "      <td>58.384998</td>\n",
              "      <td>48242000</td>\n",
              "    </tr>\n",
              "    <tr>\n",
              "      <th>1</th>\n",
              "      <td>2018-02-02</td>\n",
              "      <td>56.099998</td>\n",
              "      <td>56.153500</td>\n",
              "      <td>55.363899</td>\n",
              "      <td>55.595001</td>\n",
              "      <td>55.595001</td>\n",
              "      <td>97158000</td>\n",
              "    </tr>\n",
              "    <tr>\n",
              "      <th>2</th>\n",
              "      <td>2018-02-05</td>\n",
              "      <td>54.529999</td>\n",
              "      <td>55.500000</td>\n",
              "      <td>52.601501</td>\n",
              "      <td>52.790001</td>\n",
              "      <td>52.790001</td>\n",
              "      <td>75966000</td>\n",
              "    </tr>\n",
              "    <tr>\n",
              "      <th>3</th>\n",
              "      <td>2018-02-06</td>\n",
              "      <td>51.359001</td>\n",
              "      <td>54.085499</td>\n",
              "      <td>51.156849</td>\n",
              "      <td>54.029999</td>\n",
              "      <td>54.029999</td>\n",
              "      <td>68960000</td>\n",
              "    </tr>\n",
              "    <tr>\n",
              "      <th>4</th>\n",
              "      <td>2018-02-07</td>\n",
              "      <td>54.077000</td>\n",
              "      <td>54.089001</td>\n",
              "      <td>52.412998</td>\n",
              "      <td>52.429001</td>\n",
              "      <td>52.429001</td>\n",
              "      <td>47384000</td>\n",
              "    </tr>\n",
              "  </tbody>\n",
              "</table>\n",
              "</div>\n",
              "      <button class=\"colab-df-convert\" onclick=\"convertToInteractive('df-1f02cf6f-bb8f-420c-8ca8-1b132edac2a9')\"\n",
              "              title=\"Convert this dataframe to an interactive table.\"\n",
              "              style=\"display:none;\">\n",
              "        \n",
              "  <svg xmlns=\"http://www.w3.org/2000/svg\" height=\"24px\"viewBox=\"0 0 24 24\"\n",
              "       width=\"24px\">\n",
              "    <path d=\"M0 0h24v24H0V0z\" fill=\"none\"/>\n",
              "    <path d=\"M18.56 5.44l.94 2.06.94-2.06 2.06-.94-2.06-.94-.94-2.06-.94 2.06-2.06.94zm-11 1L8.5 8.5l.94-2.06 2.06-.94-2.06-.94L8.5 2.5l-.94 2.06-2.06.94zm10 10l.94 2.06.94-2.06 2.06-.94-2.06-.94-.94-2.06-.94 2.06-2.06.94z\"/><path d=\"M17.41 7.96l-1.37-1.37c-.4-.4-.92-.59-1.43-.59-.52 0-1.04.2-1.43.59L10.3 9.45l-7.72 7.72c-.78.78-.78 2.05 0 2.83L4 21.41c.39.39.9.59 1.41.59.51 0 1.02-.2 1.41-.59l7.78-7.78 2.81-2.81c.8-.78.8-2.07 0-2.86zM5.41 20L4 18.59l7.72-7.72 1.47 1.35L5.41 20z\"/>\n",
              "  </svg>\n",
              "      </button>\n",
              "      \n",
              "  <style>\n",
              "    .colab-df-container {\n",
              "      display:flex;\n",
              "      flex-wrap:wrap;\n",
              "      gap: 12px;\n",
              "    }\n",
              "\n",
              "    .colab-df-convert {\n",
              "      background-color: #E8F0FE;\n",
              "      border: none;\n",
              "      border-radius: 50%;\n",
              "      cursor: pointer;\n",
              "      display: none;\n",
              "      fill: #1967D2;\n",
              "      height: 32px;\n",
              "      padding: 0 0 0 0;\n",
              "      width: 32px;\n",
              "    }\n",
              "\n",
              "    .colab-df-convert:hover {\n",
              "      background-color: #E2EBFA;\n",
              "      box-shadow: 0px 1px 2px rgba(60, 64, 67, 0.3), 0px 1px 3px 1px rgba(60, 64, 67, 0.15);\n",
              "      fill: #174EA6;\n",
              "    }\n",
              "\n",
              "    [theme=dark] .colab-df-convert {\n",
              "      background-color: #3B4455;\n",
              "      fill: #D2E3FC;\n",
              "    }\n",
              "\n",
              "    [theme=dark] .colab-df-convert:hover {\n",
              "      background-color: #434B5C;\n",
              "      box-shadow: 0px 1px 3px 1px rgba(0, 0, 0, 0.15);\n",
              "      filter: drop-shadow(0px 1px 2px rgba(0, 0, 0, 0.3));\n",
              "      fill: #FFFFFF;\n",
              "    }\n",
              "  </style>\n",
              "\n",
              "      <script>\n",
              "        const buttonEl =\n",
              "          document.querySelector('#df-1f02cf6f-bb8f-420c-8ca8-1b132edac2a9 button.colab-df-convert');\n",
              "        buttonEl.style.display =\n",
              "          google.colab.kernel.accessAllowed ? 'block' : 'none';\n",
              "\n",
              "        async function convertToInteractive(key) {\n",
              "          const element = document.querySelector('#df-1f02cf6f-bb8f-420c-8ca8-1b132edac2a9');\n",
              "          const dataTable =\n",
              "            await google.colab.kernel.invokeFunction('convertToInteractive',\n",
              "                                                     [key], {});\n",
              "          if (!dataTable) return;\n",
              "\n",
              "          const docLinkHtml = 'Like what you see? Visit the ' +\n",
              "            '<a target=\"_blank\" href=https://colab.research.google.com/notebooks/data_table.ipynb>data table notebook</a>'\n",
              "            + ' to learn more about interactive tables.';\n",
              "          element.innerHTML = '';\n",
              "          dataTable['output_type'] = 'display_data';\n",
              "          await google.colab.output.renderOutput(dataTable, element);\n",
              "          const docLink = document.createElement('div');\n",
              "          docLink.innerHTML = docLinkHtml;\n",
              "          element.appendChild(docLink);\n",
              "        }\n",
              "      </script>\n",
              "    </div>\n",
              "  </div>\n",
              "  "
            ]
          },
          "metadata": {},
          "execution_count": 5
        }
      ],
      "source": [
        "df.head()"
      ],
      "id": "3131af3c"
    },
    {
      "cell_type": "code",
      "execution_count": 6,
      "metadata": {
        "id": "01483ae6"
      },
      "outputs": [],
      "source": [
        "df_plot = df.copy()\n",
        "df.drop('Adj Close', axis = 1, inplace = True)"
      ],
      "id": "01483ae6"
    },
    {
      "cell_type": "code",
      "source": [
        "df_2 = df.copy()"
      ],
      "metadata": {
        "id": "i1KVwAYs0jyT"
      },
      "id": "i1KVwAYs0jyT",
      "execution_count": 7,
      "outputs": []
    },
    {
      "cell_type": "markdown",
      "metadata": {
        "id": "wi32YU8JoZNB"
      },
      "source": [
        "Exploratory Data Analysis"
      ],
      "id": "wi32YU8JoZNB"
    },
    {
      "cell_type": "code",
      "execution_count": 8,
      "metadata": {
        "id": "eta5H0leoc6L",
        "colab": {
          "base_uri": "https://localhost:8080/",
          "height": 513
        },
        "outputId": "7821aa87-c0e4-4e8f-a71c-f7a5ca77207f"
      },
      "outputs": [
        {
          "output_type": "display_data",
          "data": {
            "text/plain": [
              "<Figure size 1008x504 with 6 Axes>"
            ],
            "image/png": "[encoded data removed]"
          },
          "metadata": {
            "needs_background": "light"
          }
        }
      ],
      "source": [
        "#df_plot = df.copy()\n",
        "df_plot = df_plot.drop('Date', axis = 1)\n",
        "\n",
        "ncols = 2\n",
        "nrows = int(round(df_plot.shape[1] / ncols, 0))\n",
        "\n",
        "fig, ax = plt.subplots(nrows=nrows, ncols=ncols, sharex=True, figsize=(14, 7))\n",
        "for i, ax in enumerate(fig.axes):\n",
        "        sns.lineplot(data = df_plot.iloc[:, i], ax=ax)\n",
        "        ax.tick_params(axis=\"x\", rotation=30, labelsize=10, length=0)\n",
        "        ax.xaxis.set_major_locator(mdates.AutoDateLocator())\n",
        "fig.tight_layout()\n",
        "plt.show()"
      ],
      "id": "eta5H0leoc6L"
    },
    {
      "cell_type": "code",
      "execution_count": 8,
      "metadata": {
        "id": "kEFrLNlPpaDf"
      },
      "outputs": [],
      "source": [],
      "id": "kEFrLNlPpaDf"
    },
    {
      "cell_type": "markdown",
      "metadata": {
        "id": "L6dRZX2pnytR"
      },
      "source": [
        "Splitting Data into training and test set. Training Set contains 5 Years of data from February 2018 to January 2023. Test set contains 19 business days from February 2023. In the end we would try to predict stock opening value of first business day of March"
      ],
      "id": "L6dRZX2pnytR"
    },
    {
      "cell_type": "code",
      "execution_count": 9,
      "metadata": {
        "id": "42096077"
      },
      "outputs": [],
      "source": [
        "train_data = df.loc[df['Date'] <= '2023-1-31']\n",
        "test_data = df.loc[(df['Date'] > '2023-1-31') & (df['Date'] < '2023-3-1')]"
      ],
      "id": "42096077"
    },
    {
      "cell_type": "code",
      "execution_count": 10,
      "metadata": {
        "id": "9ab1b6b7",
        "colab": {
          "base_uri": "https://localhost:8080/"
        },
        "outputId": "ae9fc1e9-814f-4472-cd9b-ca872a1a3564"
      },
      "outputs": [
        {
          "output_type": "stream",
          "name": "stdout",
          "text": [
            "(1258, 6)\n",
            "(19, 6)\n"
          ]
        }
      ],
      "source": [
        "print(train_data.shape)\n",
        "print(test_data.shape)"
      ],
      "id": "9ab1b6b7"
    },
    {
      "cell_type": "markdown",
      "metadata": {
        "id": "7b56a2df"
      },
      "source": [
        "# DATA PREPROCESSING"
      ],
      "id": "7b56a2df"
    },
    {
      "cell_type": "markdown",
      "metadata": {
        "id": "aa7617b3"
      },
      "source": [
        "Covnert our training data to array "
      ],
      "id": "aa7617b3"
    },
    {
      "cell_type": "code",
      "execution_count": 11,
      "metadata": {
        "id": "ef608e6d"
      },
      "outputs": [],
      "source": [
        "train_data_array = train_data.iloc[:,1:6].values"
      ],
      "id": "ef608e6d"
    },
    {
      "cell_type": "markdown",
      "metadata": {
        "id": "9a70360f"
      },
      "source": [
        "Build separate MinMaxScaler objects for the whole data and the open price. Which will be used later "
      ],
      "id": "9a70360f"
    },
    {
      "cell_type": "code",
      "execution_count": 12,
      "metadata": {
        "id": "dba9406f"
      },
      "outputs": [],
      "source": [
        "sc = MinMaxScaler(feature_range = (0,1))\n",
        "train_data_scaled = sc.fit_transform(train_data_array)\n",
        "scaler_pred = MinMaxScaler(feature_range = (0,1))\n",
        "train_open_scaled = scaler_pred.fit_transform(train_data_array[:,1:2])"
      ],
      "id": "dba9406f"
    },
    {
      "cell_type": "markdown",
      "metadata": {
        "id": "3d739e46"
      },
      "source": [
        "Creating a datastructure with 60 timesteps and 1 output "
      ],
      "id": "3d739e46"
    },
    {
      "cell_type": "code",
      "execution_count": 13,
      "metadata": {
        "id": "0ec06b1c"
      },
      "outputs": [],
      "source": [
        "X_train = []\n",
        "y_train = []\n",
        "for i in range(60, 1258):\n",
        "    X_train.append(train_data_scaled[i-60:i, :])\n",
        "    y_train.append(train_data_scaled[i, 0])\n",
        "X_train, y_train = np.array(X_train), np.array(y_train)"
      ],
      "id": "0ec06b1c"
    },
    {
      "cell_type": "code",
      "source": [
        "df_new = df.copy()\n",
        "df_new = df_new.loc[df_new['Date'] < '2023-3-1']\n",
        "inputs = df_new.iloc[len(df_new) - len(test_data) - 60:,1:6].values"
      ],
      "metadata": {
        "id": "w6cAIArC6I3Y"
      },
      "id": "w6cAIArC6I3Y",
      "execution_count": 14,
      "outputs": []
    },
    {
      "cell_type": "code",
      "source": [
        "inputs = sc.transform(inputs)"
      ],
      "metadata": {
        "id": "jlUc9VIU6JwI"
      },
      "id": "jlUc9VIU6JwI",
      "execution_count": 15,
      "outputs": []
    },
    {
      "cell_type": "code",
      "source": [
        "X_test = []\n",
        "y_test = []\n",
        "for i in range(60, 79):\n",
        "    X_test.append(inputs[i-60:i, :])\n",
        "    y_test.append(inputs[i, 0])\n",
        "X_test, y_test = np.array(X_test), np.array(y_test)"
      ],
      "metadata": {
        "id": "SyknLe5I6Q-M"
      },
      "id": "SyknLe5I6Q-M",
      "execution_count": 16,
      "outputs": []
    },
    {
      "cell_type": "code",
      "execution_count": 17,
      "metadata": {
        "id": "6161a97d",
        "colab": {
          "base_uri": "https://localhost:8080/"
        },
        "outputId": "a845e8b3-7dcb-4a5f-eab9-1de8eca133f7"
      },
      "outputs": [
        {
          "output_type": "stream",
          "name": "stdout",
          "text": [
            "(1198, 60, 5)\n",
            "(1198,)\n",
            "(19, 60, 5)\n",
            "(19,)\n"
          ]
        }
      ],
      "source": [
        "print(X_train.shape)\n",
        "print(y_train.shape)\n",
        "print(X_test.shape)\n",
        "print(y_test.shape)"
      ],
      "id": "6161a97d"
    },
    {
      "cell_type": "code",
      "execution_count": 18,
      "metadata": {
        "id": "66345a8f",
        "colab": {
          "base_uri": "https://localhost:8080/"
        },
        "outputId": "12bff750-cfd0-4573-d05b-6ce0a95feebc"
      },
      "outputs": [
        {
          "output_type": "execute_result",
          "data": {
            "text/plain": [
              "array([0.02719338, 0.01926944, 0.0262677 , ..., 0.48808508, 0.48512875,\n",
              "       0.47655053])"
            ]
          },
          "metadata": {},
          "execution_count": 18
        }
      ],
      "source": [
        "y_train"
      ],
      "id": "66345a8f"
    },
    {
      "cell_type": "markdown",
      "metadata": {
        "id": "e32369ee"
      },
      "source": [
        "# Building a Deep Neural Network "
      ],
      "id": "e32369ee"
    },
    {
      "cell_type": "markdown",
      "metadata": {
        "id": "5b457e67"
      },
      "source": [
        "Four LSTM Layers with 50 neurons in each layer were used and used a regularisation droupout of 20% to avoid the problem of overfitting"
      ],
      "id": "5b457e67"
    },
    {
      "cell_type": "code",
      "execution_count": 19,
      "metadata": {
        "id": "47dffaec"
      },
      "outputs": [],
      "source": [
        "regressor = tf.keras.models.Sequential()"
      ],
      "id": "47dffaec"
    },
    {
      "cell_type": "code",
      "execution_count": 20,
      "metadata": {
        "id": "ea15b4e8"
      },
      "outputs": [],
      "source": [
        "##The input_shape only contains the timesteps and the dimensions\n",
        "regressor.add(tf.keras.layers.LSTM(units = 70, return_sequences = True, input_shape = (X_train.shape[1], \n",
        "                                                                                       X_train.shape[2])))\n",
        "regressor.add(tf.keras.layers.Dropout(0.15))"
      ],
      "id": "ea15b4e8"
    },
    {
      "cell_type": "code",
      "execution_count": 21,
      "metadata": {
        "id": "ab92aa78"
      },
      "outputs": [],
      "source": [
        "regressor.add(tf.keras.layers.LSTM(units = 70, return_sequences = True))\n",
        "regressor.add(tf.keras.layers.Dropout(0.15))"
      ],
      "id": "ab92aa78"
    },
    {
      "cell_type": "code",
      "execution_count": 22,
      "metadata": {
        "id": "070a1a74"
      },
      "outputs": [],
      "source": [
        "regressor.add(tf.keras.layers.LSTM(units = 70, return_sequences = True))\n",
        "regressor.add(tf.keras.layers.Dropout(0.15))"
      ],
      "id": "070a1a74"
    },
    {
      "cell_type": "code",
      "execution_count": 23,
      "metadata": {
        "id": "94bcb697"
      },
      "outputs": [],
      "source": [
        "#regressor.add(tf.keras.layers.LSTM(units = 70, return_sequences = True))\n",
        "#regressor.add(tf.keras.layers.Dropout(0.15))"
      ],
      "id": "94bcb697"
    },
    {
      "cell_type": "code",
      "execution_count": 24,
      "metadata": {
        "id": "4RJTlTLVwg51"
      },
      "outputs": [],
      "source": [
        "regressor.add(tf.keras.layers.LSTM(units = 70))\n",
        "regressor.add(tf.keras.layers.Dropout(0.15))"
      ],
      "id": "4RJTlTLVwg51"
    },
    {
      "cell_type": "markdown",
      "metadata": {
        "id": "2f419844"
      },
      "source": [
        "Final Output Layer"
      ],
      "id": "2f419844"
    },
    {
      "cell_type": "code",
      "execution_count": 25,
      "metadata": {
        "id": "d78851cd"
      },
      "outputs": [],
      "source": [
        "regressor.add(tf.keras.layers.Dense(units = 1))"
      ],
      "id": "d78851cd"
    },
    {
      "cell_type": "markdown",
      "metadata": {
        "id": "fe1bf7dc"
      },
      "source": [
        "Compiling and fitting our model"
      ],
      "id": "fe1bf7dc"
    },
    {
      "cell_type": "code",
      "execution_count": 26,
      "metadata": {
        "id": "0270e4b3"
      },
      "outputs": [],
      "source": [
        "regressor.compile(optimizer = 'adam', loss = 'mean_squared_error')"
      ],
      "id": "0270e4b3"
    },
    {
      "cell_type": "code",
      "execution_count": 27,
      "metadata": {
        "id": "4d4bfb4f"
      },
      "outputs": [],
      "source": [
        "#history = regressor.fit(X_train, y_train, epochs = 100, batch_size = 32)"
      ],
      "id": "4d4bfb4f"
    },
    {
      "cell_type": "code",
      "source": [
        "from tensorflow.keras.callbacks import EarlyStopping\n",
        "epochs = 100\n",
        "batch_size = 32\n",
        "early_stop = EarlyStopping(monitor='loss', patience=10, verbose=1)\n",
        "history = regressor.fit(X_train, y_train, \n",
        "                    batch_size=batch_size, \n",
        "                    epochs=epochs,\n",
        "                    validation_data=(X_test, y_test)\n",
        "                   )"
      ],
      "metadata": {
        "id": "LfHaeIRz4C1B",
        "colab": {
          "base_uri": "https://localhost:8080/"
        },
        "outputId": "060a9127-24f8-44c1-b627-3abbd3b916d1"
      },
      "id": "LfHaeIRz4C1B",
      "execution_count": 28,
      "outputs": [
        {
          "output_type": "stream",
          "name": "stdout",
          "text": [
            "Epoch 1/100\n",
            "38/38 [==============================] - 22s 199ms/step - loss: 0.0229 - val_loss: 0.0043\n",
            "Epoch 2/100\n",
            "38/38 [==============================] - 5s 144ms/step - loss: 0.0038 - val_loss: 0.0043\n",
            "Epoch 3/100\n",
            "38/38 [==============================] - 6s 162ms/step - loss: 0.0039 - val_loss: 0.0072\n",
            "Epoch 4/100\n",
            "38/38 [==============================] - 6s 146ms/step - loss: 0.0042 - val_loss: 0.0042\n",
            "Epoch 5/100\n",
            "38/38 [==============================] - 6s 164ms/step - loss: 0.0038 - val_loss: 0.0038\n",
            "Epoch 6/100\n",
            "38/38 [==============================] - 5s 141ms/step - loss: 0.0032 - val_loss: 0.0038\n",
            "Epoch 7/100\n",
            "38/38 [==============================] - 6s 160ms/step - loss: 0.0031 - val_loss: 0.0035\n",
            "Epoch 8/100\n",
            "38/38 [==============================] - 6s 145ms/step - loss: 0.0034 - val_loss: 0.0032\n",
            "Epoch 9/100\n",
            "38/38 [==============================] - 5s 138ms/step - loss: 0.0029 - val_loss: 0.0032\n",
            "Epoch 10/100\n",
            "38/38 [==============================] - 7s 173ms/step - loss: 0.0038 - val_loss: 0.0029\n",
            "Epoch 11/100\n",
            "38/38 [==============================] - 5s 140ms/step - loss: 0.0028 - val_loss: 0.0032\n",
            "Epoch 12/100\n",
            "38/38 [==============================] - 7s 169ms/step - loss: 0.0028 - val_loss: 0.0026\n",
            "Epoch 13/100\n",
            "38/38 [==============================] - 6s 147ms/step - loss: 0.0025 - val_loss: 0.0027\n",
            "Epoch 14/100\n",
            "38/38 [==============================] - 6s 167ms/step - loss: 0.0026 - val_loss: 0.0021\n",
            "Epoch 15/100\n",
            "38/38 [==============================] - 8s 221ms/step - loss: 0.0027 - val_loss: 0.0019\n",
            "Epoch 16/100\n",
            "38/38 [==============================] - 6s 159ms/step - loss: 0.0026 - val_loss: 0.0022\n",
            "Epoch 17/100\n",
            "38/38 [==============================] - 6s 144ms/step - loss: 0.0022 - val_loss: 0.0020\n",
            "Epoch 18/100\n",
            "38/38 [==============================] - 7s 174ms/step - loss: 0.0022 - val_loss: 0.0018\n",
            "Epoch 19/100\n",
            "38/38 [==============================] - 5s 137ms/step - loss: 0.0022 - val_loss: 0.0017\n",
            "Epoch 20/100\n",
            "38/38 [==============================] - 7s 176ms/step - loss: 0.0020 - val_loss: 0.0022\n",
            "Epoch 21/100\n",
            "38/38 [==============================] - 5s 136ms/step - loss: 0.0022 - val_loss: 0.0015\n",
            "Epoch 22/100\n",
            "38/38 [==============================] - 7s 176ms/step - loss: 0.0020 - val_loss: 0.0014\n",
            "Epoch 23/100\n",
            "38/38 [==============================] - 5s 141ms/step - loss: 0.0022 - val_loss: 0.0035\n",
            "Epoch 24/100\n",
            "38/38 [==============================] - 7s 179ms/step - loss: 0.0024 - val_loss: 0.0025\n",
            "Epoch 25/100\n",
            "38/38 [==============================] - 5s 138ms/step - loss: 0.0022 - val_loss: 0.0013\n",
            "Epoch 26/100\n",
            "38/38 [==============================] - 6s 166ms/step - loss: 0.0020 - val_loss: 0.0012\n",
            "Epoch 27/100\n",
            "38/38 [==============================] - 6s 145ms/step - loss: 0.0018 - val_loss: 0.0011\n",
            "Epoch 28/100\n",
            "38/38 [==============================] - 6s 158ms/step - loss: 0.0018 - val_loss: 0.0020\n",
            "Epoch 29/100\n",
            "38/38 [==============================] - 6s 156ms/step - loss: 0.0018 - val_loss: 0.0012\n",
            "Epoch 30/100\n",
            "38/38 [==============================] - 6s 153ms/step - loss: 0.0020 - val_loss: 0.0014\n",
            "Epoch 31/100\n",
            "38/38 [==============================] - 7s 176ms/step - loss: 0.0020 - val_loss: 0.0013\n",
            "Epoch 32/100\n",
            "38/38 [==============================] - 5s 144ms/step - loss: 0.0018 - val_loss: 0.0014\n",
            "Epoch 33/100\n",
            "38/38 [==============================] - 7s 183ms/step - loss: 0.0019 - val_loss: 0.0011\n",
            "Epoch 34/100\n",
            "38/38 [==============================] - 5s 142ms/step - loss: 0.0017 - val_loss: 0.0010\n",
            "Epoch 35/100\n",
            "38/38 [==============================] - 7s 179ms/step - loss: 0.0017 - val_loss: 0.0014\n",
            "Epoch 36/100\n",
            "38/38 [==============================] - 5s 141ms/step - loss: 0.0015 - val_loss: 9.8584e-04\n",
            "Epoch 37/100\n",
            "38/38 [==============================] - 7s 176ms/step - loss: 0.0015 - val_loss: 0.0018\n",
            "Epoch 38/100\n",
            "38/38 [==============================] - 5s 140ms/step - loss: 0.0017 - val_loss: 0.0015\n",
            "Epoch 39/100\n",
            "38/38 [==============================] - 7s 177ms/step - loss: 0.0014 - val_loss: 0.0011\n",
            "Epoch 40/100\n",
            "38/38 [==============================] - 5s 140ms/step - loss: 0.0015 - val_loss: 0.0011\n",
            "Epoch 41/100\n",
            "38/38 [==============================] - 7s 176ms/step - loss: 0.0016 - val_loss: 0.0011\n",
            "Epoch 42/100\n",
            "38/38 [==============================] - 6s 155ms/step - loss: 0.0014 - val_loss: 9.5400e-04\n",
            "Epoch 43/100\n",
            "38/38 [==============================] - 6s 170ms/step - loss: 0.0014 - val_loss: 0.0013\n",
            "Epoch 44/100\n",
            "38/38 [==============================] - 6s 153ms/step - loss: 0.0015 - val_loss: 0.0017\n",
            "Epoch 45/100\n",
            "38/38 [==============================] - 7s 174ms/step - loss: 0.0015 - val_loss: 0.0044\n",
            "Epoch 46/100\n",
            "38/38 [==============================] - 6s 154ms/step - loss: 0.0015 - val_loss: 0.0011\n",
            "Epoch 47/100\n",
            "38/38 [==============================] - 8s 202ms/step - loss: 0.0012 - val_loss: 0.0012\n",
            "Epoch 48/100\n",
            "38/38 [==============================] - 6s 153ms/step - loss: 0.0013 - val_loss: 9.9741e-04\n",
            "Epoch 49/100\n",
            "38/38 [==============================] - 7s 183ms/step - loss: 0.0013 - val_loss: 8.6276e-04\n",
            "Epoch 50/100\n",
            "38/38 [==============================] - 5s 144ms/step - loss: 0.0013 - val_loss: 9.0163e-04\n",
            "Epoch 51/100\n",
            "38/38 [==============================] - 7s 173ms/step - loss: 0.0013 - val_loss: 9.8081e-04\n",
            "Epoch 52/100\n",
            "38/38 [==============================] - 6s 149ms/step - loss: 0.0013 - val_loss: 7.8913e-04\n",
            "Epoch 53/100\n",
            "38/38 [==============================] - 6s 170ms/step - loss: 0.0013 - val_loss: 8.1693e-04\n",
            "Epoch 54/100\n",
            "38/38 [==============================] - 6s 151ms/step - loss: 0.0013 - val_loss: 8.8859e-04\n",
            "Epoch 55/100\n",
            "38/38 [==============================] - 6s 162ms/step - loss: 0.0013 - val_loss: 0.0015\n",
            "Epoch 56/100\n",
            "38/38 [==============================] - 6s 155ms/step - loss: 0.0013 - val_loss: 7.2031e-04\n",
            "Epoch 57/100\n",
            "38/38 [==============================] - 6s 155ms/step - loss: 0.0012 - val_loss: 0.0019\n",
            "Epoch 58/100\n",
            "38/38 [==============================] - 7s 172ms/step - loss: 0.0013 - val_loss: 8.2957e-04\n",
            "Epoch 59/100\n",
            "38/38 [==============================] - 5s 143ms/step - loss: 0.0013 - val_loss: 8.9454e-04\n",
            "Epoch 60/100\n",
            "38/38 [==============================] - 7s 178ms/step - loss: 0.0015 - val_loss: 8.0655e-04\n",
            "Epoch 61/100\n",
            "38/38 [==============================] - 5s 141ms/step - loss: 0.0011 - val_loss: 5.6526e-04\n",
            "Epoch 62/100\n",
            "38/38 [==============================] - 7s 179ms/step - loss: 0.0011 - val_loss: 0.0016\n",
            "Epoch 63/100\n",
            "38/38 [==============================] - 5s 144ms/step - loss: 0.0011 - val_loss: 5.5243e-04\n",
            "Epoch 64/100\n",
            "38/38 [==============================] - 7s 181ms/step - loss: 0.0011 - val_loss: 5.4372e-04\n",
            "Epoch 65/100\n",
            "38/38 [==============================] - 5s 142ms/step - loss: 0.0011 - val_loss: 8.5899e-04\n",
            "Epoch 66/100\n",
            "38/38 [==============================] - 7s 179ms/step - loss: 9.9806e-04 - val_loss: 0.0013\n",
            "Epoch 67/100\n",
            "38/38 [==============================] - 6s 149ms/step - loss: 0.0012 - val_loss: 0.0011\n",
            "Epoch 68/100\n",
            "38/38 [==============================] - 7s 171ms/step - loss: 0.0012 - val_loss: 5.1084e-04\n",
            "Epoch 69/100\n",
            "38/38 [==============================] - 6s 154ms/step - loss: 0.0011 - val_loss: 4.7924e-04\n",
            "Epoch 70/100\n",
            "38/38 [==============================] - 6s 171ms/step - loss: 0.0011 - val_loss: 4.9647e-04\n",
            "Epoch 71/100\n",
            "38/38 [==============================] - 6s 151ms/step - loss: 0.0013 - val_loss: 5.1135e-04\n",
            "Epoch 72/100\n",
            "38/38 [==============================] - 6s 171ms/step - loss: 9.4601e-04 - val_loss: 8.0313e-04\n",
            "Epoch 73/100\n",
            "38/38 [==============================] - 6s 150ms/step - loss: 9.5765e-04 - val_loss: 4.2299e-04\n",
            "Epoch 74/100\n",
            "38/38 [==============================] - 6s 169ms/step - loss: 0.0011 - val_loss: 9.0420e-04\n",
            "Epoch 75/100\n",
            "38/38 [==============================] - 6s 151ms/step - loss: 0.0013 - val_loss: 4.2492e-04\n",
            "Epoch 76/100\n",
            "38/38 [==============================] - 7s 175ms/step - loss: 0.0010 - val_loss: 7.0016e-04\n",
            "Epoch 77/100\n",
            "38/38 [==============================] - 5s 140ms/step - loss: 8.1442e-04 - val_loss: 4.2875e-04\n",
            "Epoch 78/100\n",
            "38/38 [==============================] - 8s 206ms/step - loss: 0.0010 - val_loss: 6.3391e-04\n",
            "Epoch 79/100\n",
            "38/38 [==============================] - 5s 142ms/step - loss: 0.0011 - val_loss: 8.2312e-04\n",
            "Epoch 80/100\n",
            "38/38 [==============================] - 6s 170ms/step - loss: 0.0011 - val_loss: 9.6232e-04\n",
            "Epoch 81/100\n",
            "38/38 [==============================] - 6s 143ms/step - loss: 0.0012 - val_loss: 4.1007e-04\n",
            "Epoch 82/100\n",
            "38/38 [==============================] - 6s 164ms/step - loss: 8.7942e-04 - val_loss: 5.5612e-04\n",
            "Epoch 83/100\n",
            "38/38 [==============================] - 6s 154ms/step - loss: 0.0010 - val_loss: 5.4659e-04\n",
            "Epoch 84/100\n",
            "38/38 [==============================] - 6s 157ms/step - loss: 0.0010 - val_loss: 6.1798e-04\n",
            "Epoch 85/100\n",
            "38/38 [==============================] - 6s 168ms/step - loss: 0.0010 - val_loss: 6.6079e-04\n",
            "Epoch 86/100\n",
            "38/38 [==============================] - 5s 141ms/step - loss: 9.4048e-04 - val_loss: 4.0877e-04\n",
            "Epoch 87/100\n",
            "38/38 [==============================] - 7s 177ms/step - loss: 0.0011 - val_loss: 8.6691e-04\n",
            "Epoch 88/100\n",
            "38/38 [==============================] - 5s 141ms/step - loss: 0.0014 - val_loss: 4.3455e-04\n",
            "Epoch 89/100\n",
            "38/38 [==============================] - 7s 181ms/step - loss: 8.3339e-04 - val_loss: 5.6420e-04\n",
            "Epoch 90/100\n",
            "38/38 [==============================] - 5s 141ms/step - loss: 8.5293e-04 - val_loss: 4.3840e-04\n",
            "Epoch 91/100\n",
            "38/38 [==============================] - 7s 176ms/step - loss: 8.0634e-04 - val_loss: 5.9200e-04\n",
            "Epoch 92/100\n",
            "38/38 [==============================] - 5s 142ms/step - loss: 8.8372e-04 - val_loss: 0.0015\n",
            "Epoch 93/100\n",
            "38/38 [==============================] - 7s 175ms/step - loss: 9.7945e-04 - val_loss: 0.0014\n",
            "Epoch 94/100\n",
            "38/38 [==============================] - 5s 145ms/step - loss: 8.5372e-04 - val_loss: 4.3190e-04\n",
            "Epoch 95/100\n",
            "38/38 [==============================] - 7s 177ms/step - loss: 7.9158e-04 - val_loss: 4.9400e-04\n",
            "Epoch 96/100\n",
            "38/38 [==============================] - 5s 141ms/step - loss: 8.6620e-04 - val_loss: 0.0012\n",
            "Epoch 97/100\n",
            "38/38 [==============================] - 7s 173ms/step - loss: 8.4586e-04 - val_loss: 4.4050e-04\n",
            "Epoch 98/100\n",
            "38/38 [==============================] - 6s 146ms/step - loss: 8.5748e-04 - val_loss: 4.2367e-04\n",
            "Epoch 99/100\n",
            "38/38 [==============================] - 6s 167ms/step - loss: 8.6004e-04 - val_loss: 3.8841e-04\n",
            "Epoch 100/100\n",
            "38/38 [==============================] - 6s 151ms/step - loss: 8.7913e-04 - val_loss: 6.6777e-04\n"
          ]
        }
      ]
    },
    {
      "cell_type": "markdown",
      "metadata": {
        "id": "37ff36bb"
      },
      "source": [
        "## Plotting the loss function"
      ],
      "id": "37ff36bb"
    },
    {
      "cell_type": "code",
      "execution_count": 29,
      "metadata": {
        "id": "819eca2e",
        "colab": {
          "base_uri": "https://localhost:8080/",
          "height": 295
        },
        "outputId": "59be01e0-3473-4fc0-e52a-6eccd5b4da4b"
      },
      "outputs": [
        {
          "output_type": "display_data",
          "data": {
            "text/plain": [
              "<Figure size 1152x288 with 1 Axes>"
            ],
            "image/png": "[encoded data removed]"
          },
          "metadata": {
            "needs_background": "light"
          }
        }
      ],
      "source": [
        "fig, ax = plt.subplots(figsize=(16, 4), sharex=True)\n",
        "sns.lineplot(data=history.history[\"loss\"])\n",
        "sns.lineplot(data=history.history[\"val_loss\"])\n",
        "plt.title(\"Model loss\")\n",
        "plt.ylabel(\"Loss\")\n",
        "plt.xlabel(\"Epoch\")\n",
        "ax.xaxis.set_major_locator(plt.MaxNLocator(45))\n",
        "plt.legend([\"Train\", \"Test\"], loc=\"upper left\")\n",
        "plt.grid()\n",
        "plt.show()"
      ],
      "id": "819eca2e"
    },
    {
      "cell_type": "markdown",
      "metadata": {
        "id": "d11603ab"
      },
      "source": [
        "# Making predictions and visualising "
      ],
      "id": "d11603ab"
    },
    {
      "cell_type": "code",
      "execution_count": 30,
      "metadata": {
        "id": "868b3132",
        "colab": {
          "base_uri": "https://localhost:8080/"
        },
        "outputId": "892f2771-8295-4a0f-b126-64db2b8dcf41"
      },
      "outputs": [
        {
          "output_type": "stream",
          "name": "stdout",
          "text": [
            "1/1 [==============================] - 1s 1s/step\n"
          ]
        }
      ],
      "source": [
        "predicted_stock_price = regressor.predict(X_test)"
      ],
      "id": "868b3132"
    },
    {
      "cell_type": "code",
      "execution_count": 31,
      "metadata": {
        "id": "2fe03363",
        "colab": {
          "base_uri": "https://localhost:8080/"
        },
        "outputId": "f36c3eb3-f401-4f10-c9c7-12db273660c0"
      },
      "outputs": [
        {
          "output_type": "execute_result",
          "data": {
            "text/plain": [
              "array([[0.4630806 ],\n",
              "       [0.47008342],\n",
              "       [0.51600474],\n",
              "       [0.5262563 ],\n",
              "       [0.5085332 ],\n",
              "       [0.5123126 ],\n",
              "       [0.48612997],\n",
              "       [0.44571078],\n",
              "       [0.43181276],\n",
              "       [0.4330369 ],\n",
              "       [0.4334892 ],\n",
              "       [0.44191453],\n",
              "       [0.4452766 ],\n",
              "       [0.43579558],\n",
              "       [0.41606116],\n",
              "       [0.40043116],\n",
              "       [0.39269245],\n",
              "       [0.383928  ],\n",
              "       [0.3827893 ]], dtype=float32)"
            ]
          },
          "metadata": {},
          "execution_count": 31
        }
      ],
      "source": [
        "predicted_stock_price"
      ],
      "id": "2fe03363"
    },
    {
      "cell_type": "code",
      "execution_count": 31,
      "metadata": {
        "id": "zhozX-NMtqUN"
      },
      "outputs": [],
      "source": [],
      "id": "zhozX-NMtqUN"
    },
    {
      "cell_type": "code",
      "execution_count": 32,
      "metadata": {
        "id": "3ff2e874"
      },
      "outputs": [],
      "source": [
        "predicted_stock_prices = scaler_pred.inverse_transform(predicted_stock_price)"
      ],
      "id": "3ff2e874"
    },
    {
      "cell_type": "code",
      "execution_count": 33,
      "metadata": {
        "id": "1ddead41",
        "colab": {
          "base_uri": "https://localhost:8080/"
        },
        "outputId": "75be3297-9bcd-481d-9121-77a8a70fe610"
      },
      "outputs": [
        {
          "output_type": "execute_result",
          "data": {
            "text/plain": [
              "(19, 1)"
            ]
          },
          "metadata": {},
          "execution_count": 33
        }
      ],
      "source": [
        "predicted_stock_prices.shape"
      ],
      "id": "1ddead41"
    },
    {
      "cell_type": "code",
      "execution_count": 34,
      "metadata": {
        "id": "62c49321"
      },
      "outputs": [],
      "source": [
        "real_stock_price = test_data.iloc[:,1:2].values"
      ],
      "id": "62c49321"
    },
    {
      "cell_type": "code",
      "execution_count": 35,
      "metadata": {
        "id": "19894f81"
      },
      "outputs": [],
      "source": [
        "#real_stock_price"
      ],
      "id": "19894f81"
    },
    {
      "cell_type": "code",
      "execution_count": 36,
      "metadata": {
        "id": "KDaF1jpWtydV",
        "colab": {
          "base_uri": "https://localhost:8080/"
        },
        "outputId": "10c738b8-1641-4c99-cf89-8014480fb061"
      },
      "outputs": [
        {
          "output_type": "stream",
          "name": "stdout",
          "text": [
            "1.2110157492804294\n"
          ]
        }
      ],
      "source": [
        "#y_test_unscaled = scaler_pred.inverse_transform(y_test.reshape(-1, 1))\n",
        "\n",
        "# Mean Absolute Error (MAE)\n",
        "from sklearn.metrics import mean_absolute_error, mean_squared_error\n",
        "MAE = mean_absolute_error(real_stock_price, predicted_stock_prices)\n",
        "print(MAE)"
      ],
      "id": "KDaF1jpWtydV"
    },
    {
      "cell_type": "code",
      "execution_count": 37,
      "metadata": {
        "id": "ueS1__FLPgbr"
      },
      "outputs": [],
      "source": [
        "MAPE = np.mean((np.abs(np.subtract(real_stock_price, predicted_stock_prices)/ real_stock_price))) * 100"
      ],
      "id": "ueS1__FLPgbr"
    },
    {
      "cell_type": "code",
      "execution_count": 38,
      "metadata": {
        "id": "eiHwF6nWRDUG",
        "colab": {
          "base_uri": "https://localhost:8080/"
        },
        "outputId": "f6598932-421e-4ab8-ac0f-2c0ab074aa43"
      },
      "outputs": [
        {
          "output_type": "stream",
          "name": "stdout",
          "text": [
            "1.2060132626063904\n"
          ]
        }
      ],
      "source": [
        "print(MAPE)"
      ],
      "id": "eiHwF6nWRDUG"
    },
    {
      "cell_type": "code",
      "execution_count": 38,
      "metadata": {
        "id": "bECtmHVKhF5z"
      },
      "outputs": [],
      "source": [],
      "id": "bECtmHVKhF5z"
    },
    {
      "cell_type": "markdown",
      "metadata": {
        "id": "WIdEe-1JhAMC"
      },
      "source": [
        "Predicting Next day's stock price"
      ],
      "id": "WIdEe-1JhAMC"
    },
    {
      "cell_type": "code",
      "execution_count": 39,
      "metadata": {
        "id": "RurGvZ_PhG-I"
      },
      "outputs": [],
      "source": [
        "##get complete values for past 60 days before end of feb\n",
        "df_feb = df.loc[(df['Date'] <= '2023-02-28') ]"
      ],
      "id": "RurGvZ_PhG-I"
    },
    {
      "cell_type": "code",
      "execution_count": 40,
      "metadata": {
        "id": "PKwkA2Jjh9rL",
        "colab": {
          "base_uri": "https://localhost:8080/"
        },
        "outputId": "fa254c38-e220-4ed4-dc82-478a37da1926"
      },
      "outputs": [
        {
          "output_type": "stream",
          "name": "stderr",
          "text": [
            "/usr/local/lib/python3.9/dist-packages/pandas/core/frame.py:4906: SettingWithCopyWarning: \n",
            "A value is trying to be set on a copy of a slice from a DataFrame\n",
            "\n",
            "See the caveats in the documentation: https://pandas.pydata.org/pandas-docs/stable/user_guide/indexing.html#returning-a-view-versus-a-copy\n",
            "  return super().drop(\n"
          ]
        }
      ],
      "source": [
        "df_feb.drop('Date', axis = 1, inplace = True)\n"
      ],
      "id": "PKwkA2Jjh9rL"
    },
    {
      "cell_type": "code",
      "execution_count": 41,
      "metadata": {
        "id": "rUH_EFrLiMLv"
      },
      "outputs": [],
      "source": [
        "df_feb = df_feb[-60:].values"
      ],
      "id": "rUH_EFrLiMLv"
    },
    {
      "cell_type": "code",
      "execution_count": 42,
      "metadata": {
        "id": "ztLspKTQiXhF"
      },
      "outputs": [],
      "source": [
        "df_feb_scaled = sc.transform(df_feb)"
      ],
      "id": "ztLspKTQiXhF"
    },
    {
      "cell_type": "code",
      "execution_count": 43,
      "metadata": {
        "id": "QMigsRx_ikqC"
      },
      "outputs": [],
      "source": [
        "X_test_new = []\n",
        "X_test_new.append(df_feb_scaled)\n",
        "X_test_new = np.array(X_test_new)"
      ],
      "id": "QMigsRx_ikqC"
    },
    {
      "cell_type": "code",
      "execution_count": 44,
      "metadata": {
        "id": "A05KCWodi9OX",
        "colab": {
          "base_uri": "https://localhost:8080/"
        },
        "outputId": "1cb0c2b9-dd77-4070-941b-794f263b1d6e"
      },
      "outputs": [
        {
          "output_type": "execute_result",
          "data": {
            "text/plain": [
              "(1, 60, 5)"
            ]
          },
          "metadata": {},
          "execution_count": 44
        }
      ],
      "source": [
        "X_test_new.shape"
      ],
      "id": "A05KCWodi9OX"
    },
    {
      "cell_type": "code",
      "execution_count": 45,
      "metadata": {
        "id": "rLF9119JjYQ-",
        "colab": {
          "base_uri": "https://localhost:8080/"
        },
        "outputId": "1b3c919c-f62f-4d64-90f4-1aa3c04390e4"
      },
      "outputs": [
        {
          "output_type": "stream",
          "name": "stdout",
          "text": [
            "1/1 [==============================] - 0s 35ms/step\n"
          ]
        }
      ],
      "source": [
        "pred_price_scaled = regressor.predict(X_test_new)\n",
        "pred_price_unscaled = scaler_pred.inverse_transform(pred_price_scaled)"
      ],
      "id": "rLF9119JjYQ-"
    },
    {
      "cell_type": "code",
      "execution_count": 46,
      "metadata": {
        "id": "kRwn7r84jgq1",
        "colab": {
          "base_uri": "https://localhost:8080/",
          "height": 224
        },
        "outputId": "e74fb984-22f0-4cf2-fa09-2ff81481a101"
      },
      "outputs": [
        {
          "output_type": "stream",
          "name": "stdout",
          "text": [
            "[[89.38348]]\n"
          ]
        },
        {
          "output_type": "execute_result",
          "data": {
            "text/plain": [
              "           Date       Open       High        Low      Close    Volume\n",
              "1275 2023-02-27  90.089996  90.449997  89.610001  90.099998  22724300\n",
              "1276 2023-02-28  89.540001  91.449997  89.519997  90.300003  30546900\n",
              "1277 2023-03-01  90.160004  91.199997  89.849998  90.510002  26323900\n",
              "1278 2023-03-02  89.860001  92.480003  89.769997  92.309998  23328600\n",
              "1279 2023-03-03  92.739998  94.110001  92.660004  94.019997  30220900"
            ],
            "text/html": [
              "\n",
              "  <div id=\"df-d8dd2a72-a6f3-4462-8f93-7ea37f8b3dea\">\n",
              "    <div class=\"colab-df-container\">\n",
              "      <div>\n",
              "<style scoped>\n",
              "    .dataframe tbody tr th:only-of-type {\n",
              "        vertical-align: middle;\n",
              "    }\n",
              "\n",
              "    .dataframe tbody tr th {\n",
              "        vertical-align: top;\n",
              "    }\n",
              "\n",
              "    .dataframe thead th {\n",
              "        text-align: right;\n",
              "    }\n",
              "</style>\n",
              "<table border=\"1\" class=\"dataframe\">\n",
              "  <thead>\n",
              "    <tr style=\"text-align: right;\">\n",
              "      <th></th>\n",
              "      <th>Date</th>\n",
              "      <th>Open</th>\n",
              "      <th>High</th>\n",
              "      <th>Low</th>\n",
              "      <th>Close</th>\n",
              "      <th>Volume</th>\n",
              "    </tr>\n",
              "  </thead>\n",
              "  <tbody>\n",
              "    <tr>\n",
              "      <th>1275</th>\n",
              "      <td>2023-02-27</td>\n",
              "      <td>90.089996</td>\n",
              "      <td>90.449997</td>\n",
              "      <td>89.610001</td>\n",
              "      <td>90.099998</td>\n",
              "      <td>22724300</td>\n",
              "    </tr>\n",
              "    <tr>\n",
              "      <th>1276</th>\n",
              "      <td>2023-02-28</td>\n",
              "      <td>89.540001</td>\n",
              "      <td>91.449997</td>\n",
              "      <td>89.519997</td>\n",
              "      <td>90.300003</td>\n",
              "      <td>30546900</td>\n",
              "    </tr>\n",
              "    <tr>\n",
              "      <th>1277</th>\n",
              "      <td>2023-03-01</td>\n",
              "      <td>90.160004</td>\n",
              "      <td>91.199997</td>\n",
              "      <td>89.849998</td>\n",
              "      <td>90.510002</td>\n",
              "      <td>26323900</td>\n",
              "    </tr>\n",
              "    <tr>\n",
              "      <th>1278</th>\n",
              "      <td>2023-03-02</td>\n",
              "      <td>89.860001</td>\n",
              "      <td>92.480003</td>\n",
              "      <td>89.769997</td>\n",
              "      <td>92.309998</td>\n",
              "      <td>23328600</td>\n",
              "    </tr>\n",
              "    <tr>\n",
              "      <th>1279</th>\n",
              "      <td>2023-03-03</td>\n",
              "      <td>92.739998</td>\n",
              "      <td>94.110001</td>\n",
              "      <td>92.660004</td>\n",
              "      <td>94.019997</td>\n",
              "      <td>30220900</td>\n",
              "    </tr>\n",
              "  </tbody>\n",
              "</table>\n",
              "</div>\n",
              "      <button class=\"colab-df-convert\" onclick=\"convertToInteractive('df-d8dd2a72-a6f3-4462-8f93-7ea37f8b3dea')\"\n",
              "              title=\"Convert this dataframe to an interactive table.\"\n",
              "              style=\"display:none;\">\n",
              "        \n",
              "  <svg xmlns=\"http://www.w3.org/2000/svg\" height=\"24px\"viewBox=\"0 0 24 24\"\n",
              "       width=\"24px\">\n",
              "    <path d=\"M0 0h24v24H0V0z\" fill=\"none\"/>\n",
              "    <path d=\"M18.56 5.44l.94 2.06.94-2.06 2.06-.94-2.06-.94-.94-2.06-.94 2.06-2.06.94zm-11 1L8.5 8.5l.94-2.06 2.06-.94-2.06-.94L8.5 2.5l-.94 2.06-2.06.94zm10 10l.94 2.06.94-2.06 2.06-.94-2.06-.94-.94-2.06-.94 2.06-2.06.94z\"/><path d=\"M17.41 7.96l-1.37-1.37c-.4-.4-.92-.59-1.43-.59-.52 0-1.04.2-1.43.59L10.3 9.45l-7.72 7.72c-.78.78-.78 2.05 0 2.83L4 21.41c.39.39.9.59 1.41.59.51 0 1.02-.2 1.41-.59l7.78-7.78 2.81-2.81c.8-.78.8-2.07 0-2.86zM5.41 20L4 18.59l7.72-7.72 1.47 1.35L5.41 20z\"/>\n",
              "  </svg>\n",
              "      </button>\n",
              "      \n",
              "  <style>\n",
              "    .colab-df-container {\n",
              "      display:flex;\n",
              "      flex-wrap:wrap;\n",
              "      gap: 12px;\n",
              "    }\n",
              "\n",
              "    .colab-df-convert {\n",
              "      background-color: #E8F0FE;\n",
              "      border: none;\n",
              "      border-radius: 50%;\n",
              "      cursor: pointer;\n",
              "      display: none;\n",
              "      fill: #1967D2;\n",
              "      height: 32px;\n",
              "      padding: 0 0 0 0;\n",
              "      width: 32px;\n",
              "    }\n",
              "\n",
              "    .colab-df-convert:hover {\n",
              "      background-color: #E2EBFA;\n",
              "      box-shadow: 0px 1px 2px rgba(60, 64, 67, 0.3), 0px 1px 3px 1px rgba(60, 64, 67, 0.15);\n",
              "      fill: #174EA6;\n",
              "    }\n",
              "\n",
              "    [theme=dark] .colab-df-convert {\n",
              "      background-color: #3B4455;\n",
              "      fill: #D2E3FC;\n",
              "    }\n",
              "\n",
              "    [theme=dark] .colab-df-convert:hover {\n",
              "      background-color: #434B5C;\n",
              "      box-shadow: 0px 1px 3px 1px rgba(0, 0, 0, 0.15);\n",
              "      filter: drop-shadow(0px 1px 2px rgba(0, 0, 0, 0.3));\n",
              "      fill: #FFFFFF;\n",
              "    }\n",
              "  </style>\n",
              "\n",
              "      <script>\n",
              "        const buttonEl =\n",
              "          document.querySelector('#df-d8dd2a72-a6f3-4462-8f93-7ea37f8b3dea button.colab-df-convert');\n",
              "        buttonEl.style.display =\n",
              "          google.colab.kernel.accessAllowed ? 'block' : 'none';\n",
              "\n",
              "        async function convertToInteractive(key) {\n",
              "          const element = document.querySelector('#df-d8dd2a72-a6f3-4462-8f93-7ea37f8b3dea');\n",
              "          const dataTable =\n",
              "            await google.colab.kernel.invokeFunction('convertToInteractive',\n",
              "                                                     [key], {});\n",
              "          if (!dataTable) return;\n",
              "\n",
              "          const docLinkHtml = 'Like what you see? Visit the ' +\n",
              "            '<a target=\"_blank\" href=https://colab.research.google.com/notebooks/data_table.ipynb>data table notebook</a>'\n",
              "            + ' to learn more about interactive tables.';\n",
              "          element.innerHTML = '';\n",
              "          dataTable['output_type'] = 'display_data';\n",
              "          await google.colab.output.renderOutput(dataTable, element);\n",
              "          const docLink = document.createElement('div');\n",
              "          docLink.innerHTML = docLinkHtml;\n",
              "          element.appendChild(docLink);\n",
              "        }\n",
              "      </script>\n",
              "    </div>\n",
              "  </div>\n",
              "  "
            ]
          },
          "metadata": {},
          "execution_count": 46
        }
      ],
      "source": [
        "print(pred_price_unscaled)\n",
        "df.tail()"
      ],
      "id": "kRwn7r84jgq1"
    },
    {
      "cell_type": "markdown",
      "metadata": {
        "id": "b0d91dd0"
      },
      "source": [
        "# Visualising "
      ],
      "id": "b0d91dd0"
    },
    {
      "cell_type": "code",
      "execution_count": 47,
      "metadata": {
        "id": "b7107ad1",
        "colab": {
          "base_uri": "https://localhost:8080/",
          "height": 295
        },
        "outputId": "c6890646-b88e-4b52-f19b-800a1307d24f"
      },
      "outputs": [
        {
          "output_type": "display_data",
          "data": {
            "text/plain": [
              "<Figure size 432x288 with 1 Axes>"
            ],
            "image/png": "[encoded data removed]"
          },
          "metadata": {
            "needs_background": "light"
          }
        }
      ],
      "source": [
        "plt.plot(real_stock_price, color = 'red', label = 'Real Google Stock Price')\n",
        "plt.plot(predicted_stock_prices, color = 'blue', label = 'Predicted Google Stock Price')\n",
        "plt.title('Google Stock Price Prediction')\n",
        "plt.xlabel('Time')\n",
        "plt.ylabel('Google Stock Price')\n",
        "plt.legend()\n",
        "plt.show()"
      ],
      "id": "b7107ad1"
    },
    {
      "cell_type": "code",
      "source": [
        "# The date from which on the date is displayed\n",
        "display_start_date = \"2019-01-01\" \n",
        "df_2.set_index(df_2.columns[0])\n",
        "#train_data_len = length()\n",
        "# Add the difference between the valid and predicted prices\n",
        "train = pd.DataFrame(df_2['Open'][:1198 + 1]).rename(columns={'Open': 'y_train'})\n",
        "valid = pd.DataFrame(df_2['Open'][1198:1217]).rename(columns={'Open': 'y_test'})\n",
        "valid.insert(1, \"y_pred\", predicted_stock_prices, True)\n",
        "valid.insert(1, \"residuals\", valid[\"y_pred\"] - valid[\"y_test\"], True)\n",
        "df_union = pd.concat([train, valid])"
      ],
      "metadata": {
        "id": "XMgSxguz2FTi"
      },
      "id": "XMgSxguz2FTi",
      "execution_count": 48,
      "outputs": []
    },
    {
      "cell_type": "code",
      "source": [
        "df_union"
      ],
      "metadata": {
        "id": "czdQHum02I7R",
        "colab": {
          "base_uri": "https://localhost:8080/",
          "height": 424
        },
        "outputId": "e65f0857-3919-48d2-d0b3-307268a8b649"
      },
      "id": "czdQHum02I7R",
      "execution_count": 49,
      "outputs": [
        {
          "output_type": "execute_result",
          "data": {
            "text/plain": [
              "        y_train     y_test  residuals     y_pred\n",
              "0     58.130501        NaN        NaN        NaN\n",
              "1     56.099998        NaN        NaN        NaN\n",
              "2     54.529999        NaN        NaN        NaN\n",
              "3     51.359001        NaN        NaN        NaN\n",
              "4     54.077000        NaN        NaN        NaN\n",
              "...         ...        ...        ...        ...\n",
              "1212        NaN  97.339996  -4.756790  92.583206\n",
              "1213        NaN  98.464996  -7.474853  90.990143\n",
              "1214        NaN  97.199997  -6.998604  90.201393\n",
              "1215        NaN  96.000000  -6.691902  89.308098\n",
              "1216        NaN  95.120003  -5.927964  89.192039\n",
              "\n",
              "[1218 rows x 4 columns]"
            ],
            "text/html": [
              "\n",
              "  <div id=\"df-513cbd43-0899-436b-ac56-b5f701699b6d\">\n",
              "    <div class=\"colab-df-container\">\n",
              "      <div>\n",
              "<style scoped>\n",
              "    .dataframe tbody tr th:only-of-type {\n",
              "        vertical-align: middle;\n",
              "    }\n",
              "\n",
              "    .dataframe tbody tr th {\n",
              "        vertical-align: top;\n",
              "    }\n",
              "\n",
              "    .dataframe thead th {\n",
              "        text-align: right;\n",
              "    }\n",
              "</style>\n",
              "<table border=\"1\" class=\"dataframe\">\n",
              "  <thead>\n",
              "    <tr style=\"text-align: right;\">\n",
              "      <th></th>\n",
              "      <th>y_train</th>\n",
              "      <th>y_test</th>\n",
              "      <th>residuals</th>\n",
              "      <th>y_pred</th>\n",
              "    </tr>\n",
              "  </thead>\n",
              "  <tbody>\n",
              "    <tr>\n",
              "      <th>0</th>\n",
              "      <td>58.130501</td>\n",
              "      <td>NaN</td>\n",
              "      <td>NaN</td>\n",
              "      <td>NaN</td>\n",
              "    </tr>\n",
              "    <tr>\n",
              "      <th>1</th>\n",
              "      <td>56.099998</td>\n",
              "      <td>NaN</td>\n",
              "      <td>NaN</td>\n",
              "      <td>NaN</td>\n",
              "    </tr>\n",
              "    <tr>\n",
              "      <th>2</th>\n",
              "      <td>54.529999</td>\n",
              "      <td>NaN</td>\n",
              "      <td>NaN</td>\n",
              "      <td>NaN</td>\n",
              "    </tr>\n",
              "    <tr>\n",
              "      <th>3</th>\n",
              "      <td>51.359001</td>\n",
              "      <td>NaN</td>\n",
              "      <td>NaN</td>\n",
              "      <td>NaN</td>\n",
              "    </tr>\n",
              "    <tr>\n",
              "      <th>4</th>\n",
              "      <td>54.077000</td>\n",
              "      <td>NaN</td>\n",
              "      <td>NaN</td>\n",
              "      <td>NaN</td>\n",
              "    </tr>\n",
              "    <tr>\n",
              "      <th>...</th>\n",
              "      <td>...</td>\n",
              "      <td>...</td>\n",
              "      <td>...</td>\n",
              "      <td>...</td>\n",
              "    </tr>\n",
              "    <tr>\n",
              "      <th>1212</th>\n",
              "      <td>NaN</td>\n",
              "      <td>97.339996</td>\n",
              "      <td>-4.756790</td>\n",
              "      <td>92.583206</td>\n",
              "    </tr>\n",
              "    <tr>\n",
              "      <th>1213</th>\n",
              "      <td>NaN</td>\n",
              "      <td>98.464996</td>\n",
              "      <td>-7.474853</td>\n",
              "      <td>90.990143</td>\n",
              "    </tr>\n",
              "    <tr>\n",
              "      <th>1214</th>\n",
              "      <td>NaN</td>\n",
              "      <td>97.199997</td>\n",
              "      <td>-6.998604</td>\n",
              "      <td>90.201393</td>\n",
              "    </tr>\n",
              "    <tr>\n",
              "      <th>1215</th>\n",
              "      <td>NaN</td>\n",
              "      <td>96.000000</td>\n",
              "      <td>-6.691902</td>\n",
              "      <td>89.308098</td>\n",
              "    </tr>\n",
              "    <tr>\n",
              "      <th>1216</th>\n",
              "      <td>NaN</td>\n",
              "      <td>95.120003</td>\n",
              "      <td>-5.927964</td>\n",
              "      <td>89.192039</td>\n",
              "    </tr>\n",
              "  </tbody>\n",
              "</table>\n",
              "<p>1218 rows × 4 columns</p>\n",
              "</div>\n",
              "      <button class=\"colab-df-convert\" onclick=\"convertToInteractive('df-513cbd43-0899-436b-ac56-b5f701699b6d')\"\n",
              "              title=\"Convert this dataframe to an interactive table.\"\n",
              "              style=\"display:none;\">\n",
              "        \n",
              "  <svg xmlns=\"http://www.w3.org/2000/svg\" height=\"24px\"viewBox=\"0 0 24 24\"\n",
              "       width=\"24px\">\n",
              "    <path d=\"M0 0h24v24H0V0z\" fill=\"none\"/>\n",
              "    <path d=\"M18.56 5.44l.94 2.06.94-2.06 2.06-.94-2.06-.94-.94-2.06-.94 2.06-2.06.94zm-11 1L8.5 8.5l.94-2.06 2.06-.94-2.06-.94L8.5 2.5l-.94 2.06-2.06.94zm10 10l.94 2.06.94-2.06 2.06-.94-2.06-.94-.94-2.06-.94 2.06-2.06.94z\"/><path d=\"M17.41 7.96l-1.37-1.37c-.4-.4-.92-.59-1.43-.59-.52 0-1.04.2-1.43.59L10.3 9.45l-7.72 7.72c-.78.78-.78 2.05 0 2.83L4 21.41c.39.39.9.59 1.41.59.51 0 1.02-.2 1.41-.59l7.78-7.78 2.81-2.81c.8-.78.8-2.07 0-2.86zM5.41 20L4 18.59l7.72-7.72 1.47 1.35L5.41 20z\"/>\n",
              "  </svg>\n",
              "      </button>\n",
              "      \n",
              "  <style>\n",
              "    .colab-df-container {\n",
              "      display:flex;\n",
              "      flex-wrap:wrap;\n",
              "      gap: 12px;\n",
              "    }\n",
              "\n",
              "    .colab-df-convert {\n",
              "      background-color: #E8F0FE;\n",
              "      border: none;\n",
              "      border-radius: 50%;\n",
              "      cursor: pointer;\n",
              "      display: none;\n",
              "      fill: #1967D2;\n",
              "      height: 32px;\n",
              "      padding: 0 0 0 0;\n",
              "      width: 32px;\n",
              "    }\n",
              "\n",
              "    .colab-df-convert:hover {\n",
              "      background-color: #E2EBFA;\n",
              "      box-shadow: 0px 1px 2px rgba(60, 64, 67, 0.3), 0px 1px 3px 1px rgba(60, 64, 67, 0.15);\n",
              "      fill: #174EA6;\n",
              "    }\n",
              "\n",
              "    [theme=dark] .colab-df-convert {\n",
              "      background-color: #3B4455;\n",
              "      fill: #D2E3FC;\n",
              "    }\n",
              "\n",
              "    [theme=dark] .colab-df-convert:hover {\n",
              "      background-color: #434B5C;\n",
              "      box-shadow: 0px 1px 3px 1px rgba(0, 0, 0, 0.15);\n",
              "      filter: drop-shadow(0px 1px 2px rgba(0, 0, 0, 0.3));\n",
              "      fill: #FFFFFF;\n",
              "    }\n",
              "  </style>\n",
              "\n",
              "      <script>\n",
              "        const buttonEl =\n",
              "          document.querySelector('#df-513cbd43-0899-436b-ac56-b5f701699b6d button.colab-df-convert');\n",
              "        buttonEl.style.display =\n",
              "          google.colab.kernel.accessAllowed ? 'block' : 'none';\n",
              "\n",
              "        async function convertToInteractive(key) {\n",
              "          const element = document.querySelector('#df-513cbd43-0899-436b-ac56-b5f701699b6d');\n",
              "          const dataTable =\n",
              "            await google.colab.kernel.invokeFunction('convertToInteractive',\n",
              "                                                     [key], {});\n",
              "          if (!dataTable) return;\n",
              "\n",
              "          const docLinkHtml = 'Like what you see? Visit the ' +\n",
              "            '<a target=\"_blank\" href=https://colab.research.google.com/notebooks/data_table.ipynb>data table notebook</a>'\n",
              "            + ' to learn more about interactive tables.';\n",
              "          element.innerHTML = '';\n",
              "          dataTable['output_type'] = 'display_data';\n",
              "          await google.colab.output.renderOutput(dataTable, element);\n",
              "          const docLink = document.createElement('div');\n",
              "          docLink.innerHTML = docLinkHtml;\n",
              "          element.appendChild(docLink);\n",
              "        }\n",
              "      </script>\n",
              "    </div>\n",
              "  </div>\n",
              "  "
            ]
          },
          "metadata": {},
          "execution_count": 49
        }
      ]
    },
    {
      "cell_type": "code",
      "execution_count": 50,
      "metadata": {
        "id": "c2787686",
        "colab": {
          "base_uri": "https://localhost:8080/",
          "height": 499
        },
        "outputId": "1c5963cc-5401-463c-90be-49da3c2ac1a6"
      },
      "outputs": [
        {
          "output_type": "display_data",
          "data": {
            "text/plain": [
              "<Figure size 1152x576 with 1 Axes>"
            ],
            "image/png": "[encoded data removed]"
          },
          "metadata": {
            "needs_background": "light"
          }
        }
      ],
      "source": [
        "\n",
        "# Zoom in to a closer timeframe\n",
        "#df_union_zoom = df_union[df_union.index > display_start_date]\n",
        "df_union_zoom = df_union.iloc[1160:]\n",
        "#df_union_zoom = df_union.copy()\n",
        "# Create the lineplot\n",
        "fig, ax1 = plt.subplots(figsize=(16, 8))\n",
        "plt.title(\"y_pred vs y_test\")\n",
        "plt.ylabel('GOOG', fontsize=18)\n",
        "sns.set_palette([\"#090364\", \"#1960EF\", \"#EF5919\"])\n",
        "sns.lineplot(data=df_union_zoom[['y_pred', 'y_train', 'y_test']], linewidth=1.0, dashes=False, ax=ax1)\n",
        "\n",
        "# Create the bar plot with the differences\n",
        "df_sub = [\"#2BC97A\" if x > 0 else \"#C92B2B\" for x in df_union_zoom[\"residuals\"].dropna()]\n",
        "ax1.bar(height=df_union_zoom['residuals'].dropna(), x=df_union_zoom['residuals'].dropna().index, width=3, label='residuals', color=df_sub)\n",
        "plt.legend()\n",
        "plt.show()"
      ],
      "id": "c2787686"
    }
  ],
  "metadata": {
    "accelerator": "GPU",
    "colab": {
      "provenance": []
    },
    "gpuClass": "standard",
    "kernelspec": {
      "display_name": "Python 3 (ipykernel)",
      "language": "python",
      "name": "python3"
    },
    "language_info": {
      "codemirror_mode": {
        "name": "ipython",
        "version": 3
      },
      "file_extension": ".py",
      "mimetype": "text/x-python",
      "name": "python",
      "nbconvert_exporter": "python",
      "pygments_lexer": "ipython3",
      "version": "3.9.13"
    }
  },
  "nbformat": 4,
  "nbformat_minor": 5
}